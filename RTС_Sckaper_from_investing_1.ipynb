{
  "nbformat": 4,
  "nbformat_minor": 0,
  "metadata": {
    "colab": {
      "name": "RTС_Sckaper_from_investing.1.ipynb",
      "provenance": [],
      "collapsed_sections": []
    },
    "kernelspec": {
      "name": "python3",
      "display_name": "Python 3"
    },
    "language_info": {
      "name": "python"
    }
  },
  "cells": [
    {
      "cell_type": "markdown",
      "metadata": {
        "id": "Y7dhj_FML9E8"
      },
      "source": [
        ""
      ]
    },
    {
      "cell_type": "code",
      "metadata": {
        "colab": {
          "base_uri": "https://localhost:8080/"
        },
        "id": "zfPMuCwK3Pm0",
        "outputId": "83f3e4c8-6036-4b00-de06-067e1c5ac737"
      },
      "source": [
        "!pip install investpy"
      ],
      "execution_count": null,
      "outputs": [
        {
          "output_type": "stream",
          "text": [
            "Requirement already satisfied: investpy in /usr/local/lib/python3.7/dist-packages (1.0.7)\n",
            "Requirement already satisfied: numpy>=1.17.2 in /usr/local/lib/python3.7/dist-packages (from investpy) (1.19.5)\n",
            "Requirement already satisfied: pandas>=0.25.1 in /usr/local/lib/python3.7/dist-packages (from investpy) (1.1.5)\n",
            "Requirement already satisfied: requests>=2.22.0 in /usr/local/lib/python3.7/dist-packages (from investpy) (2.23.0)\n",
            "Requirement already satisfied: setuptools>=41.2.0 in /usr/local/lib/python3.7/dist-packages (from investpy) (57.0.0)\n",
            "Requirement already satisfied: Unidecode>=1.1.1 in /usr/local/lib/python3.7/dist-packages (from investpy) (1.2.0)\n",
            "Requirement already satisfied: lxml>=4.4.1 in /usr/local/lib/python3.7/dist-packages (from investpy) (4.6.3)\n",
            "Requirement already satisfied: pytz>=2019.3 in /usr/local/lib/python3.7/dist-packages (from investpy) (2021.1)\n",
            "Requirement already satisfied: python-dateutil>=2.7.3 in /usr/local/lib/python3.7/dist-packages (from pandas>=0.25.1->investpy) (2.8.1)\n",
            "Requirement already satisfied: idna<3,>=2.5 in /usr/local/lib/python3.7/dist-packages (from requests>=2.22.0->investpy) (2.10)\n",
            "Requirement already satisfied: urllib3!=1.25.0,!=1.25.1,<1.26,>=1.21.1 in /usr/local/lib/python3.7/dist-packages (from requests>=2.22.0->investpy) (1.24.3)\n",
            "Requirement already satisfied: certifi>=2017.4.17 in /usr/local/lib/python3.7/dist-packages (from requests>=2.22.0->investpy) (2021.5.30)\n",
            "Requirement already satisfied: chardet<4,>=3.0.2 in /usr/local/lib/python3.7/dist-packages (from requests>=2.22.0->investpy) (3.0.4)\n",
            "Requirement already satisfied: six>=1.5 in /usr/local/lib/python3.7/dist-packages (from python-dateutil>=2.7.3->pandas>=0.25.1->investpy) (1.15.0)\n"
          ],
          "name": "stdout"
        }
      ]
    },
    {
      "cell_type": "code",
      "metadata": {
        "colab": {
          "base_uri": "https://localhost:8080/"
        },
        "id": "5rjWpY0y3Q38",
        "outputId": "0bf1caae-ab36-438e-a0a7-c9f81366cde2"
      },
      "source": [
        "!pip install git+https://github.com/alvarobartt/investpy.git@master\n",
        "\n"
      ],
      "execution_count": null,
      "outputs": [
        {
          "output_type": "stream",
          "text": [
            "Collecting git+https://github.com/alvarobartt/investpy.git@master\n",
            "  Cloning https://github.com/alvarobartt/investpy.git (to revision master) to /tmp/pip-req-build-v58ioh8y\n",
            "  Running command git clone -q https://github.com/alvarobartt/investpy.git /tmp/pip-req-build-v58ioh8y\n",
            "Requirement already satisfied (use --upgrade to upgrade): investpy==1.0.7 from git+https://github.com/alvarobartt/investpy.git@master in /usr/local/lib/python3.7/dist-packages\n",
            "Requirement already satisfied: Unidecode>=1.1.1 in /usr/local/lib/python3.7/dist-packages (from investpy==1.0.7) (1.2.0)\n",
            "Requirement already satisfied: setuptools>=41.2.0 in /usr/local/lib/python3.7/dist-packages (from investpy==1.0.7) (57.0.0)\n",
            "Requirement already satisfied: numpy>=1.17.2 in /usr/local/lib/python3.7/dist-packages (from investpy==1.0.7) (1.19.5)\n",
            "Requirement already satisfied: pandas>=0.25.1 in /usr/local/lib/python3.7/dist-packages (from investpy==1.0.7) (1.1.5)\n",
            "Requirement already satisfied: lxml>=4.4.1 in /usr/local/lib/python3.7/dist-packages (from investpy==1.0.7) (4.6.3)\n",
            "Requirement already satisfied: requests>=2.22.0 in /usr/local/lib/python3.7/dist-packages (from investpy==1.0.7) (2.23.0)\n",
            "Requirement already satisfied: pytz>=2019.3 in /usr/local/lib/python3.7/dist-packages (from investpy==1.0.7) (2021.1)\n",
            "Requirement already satisfied: python-dateutil>=2.7.3 in /usr/local/lib/python3.7/dist-packages (from pandas>=0.25.1->investpy==1.0.7) (2.8.1)\n",
            "Requirement already satisfied: certifi>=2017.4.17 in /usr/local/lib/python3.7/dist-packages (from requests>=2.22.0->investpy==1.0.7) (2021.5.30)\n",
            "Requirement already satisfied: chardet<4,>=3.0.2 in /usr/local/lib/python3.7/dist-packages (from requests>=2.22.0->investpy==1.0.7) (3.0.4)\n",
            "Requirement already satisfied: urllib3!=1.25.0,!=1.25.1,<1.26,>=1.21.1 in /usr/local/lib/python3.7/dist-packages (from requests>=2.22.0->investpy==1.0.7) (1.24.3)\n",
            "Requirement already satisfied: idna<3,>=2.5 in /usr/local/lib/python3.7/dist-packages (from requests>=2.22.0->investpy==1.0.7) (2.10)\n",
            "Requirement already satisfied: six>=1.5 in /usr/local/lib/python3.7/dist-packages (from python-dateutil>=2.7.3->pandas>=0.25.1->investpy==1.0.7) (1.15.0)\n",
            "Building wheels for collected packages: investpy\n",
            "  Building wheel for investpy (setup.py) ... \u001b[?25l\u001b[?25hdone\n",
            "  Created wheel for investpy: filename=investpy-1.0.7-cp37-none-any.whl size=4488224 sha256=2f48bbf9ed247efc32b9ab135f909497c6e755c1724314ed4c56108792328455\n",
            "  Stored in directory: /tmp/pip-ephem-wheel-cache-bm5yodw9/wheels/83/df/3e/79cda6a52e71c4cca31ee3684a2d459fa5e4b949dc48201314\n",
            "Successfully built investpy\n"
          ],
          "name": "stdout"
        }
      ]
    },
    {
      "cell_type": "code",
      "metadata": {
        "id": "eTtN4Ze7muW6"
      },
      "source": [
        "import pandas as pd\n",
        "import investpy\n",
        "import datetime\n"
      ],
      "execution_count": null,
      "outputs": []
    },
    {
      "cell_type": "markdown",
      "metadata": {
        "id": "PGJgUxBnyMKM"
      },
      "source": [
        "Добавим нужные инструменты в список (для начала добавим инструменты smp500)"
      ]
    },
    {
      "cell_type": "code",
      "metadata": {
        "id": "blvKip-AiJjv"
      },
      "source": [
        "# smp500 = [\"MMM\", \"ABT\", \"ABBV\", \"ABMD\", \"ACN\", \"ATVI\", \"ADBE\", \"AMD\", \"AAP\", \"AES\", \"AFL\", \"A\", \"APD\", \"AKAM\", \"ALK\", \"ALB\", \"ARE\", \"ALXN\", \"ALGN\", \"ALLE\", \"LNT\", \"ALL\", \"GOOGL\", \"GOOG\", \"MO\", \"AMZN\", \"AMCR\", \"AEE\", \"AAL\", \"AEP\", \"AXP\", \"AIG\", \"AMT\", \"AWK\", \"AMP\", \"ABC\", \"AME\", \"AMGN\", \"APH\", \"ADI\", \"ANSS\", \"ANTM\", \"AON\", \"AOS\", \"APA\", \"AAPL\", \"AMAT\", \"APTV\", \"ADM\", \"ANET\", \"AJG\", \"AIZ\", \"T\", \"ATO\", \"ADSK\", \"ADP\", \"AZO\", \"AVB\", \"AVY\", \"BKR\", \"BLL\", \"BAC\", \"BK\", \"BAX\", \"BDX\", \"BRK.B\", \"BBY\", \"BIO\", \"BIIB\", \"BLK\", \"BA\", \"BKNG\", \"BWA\", \"BXP\", \"BSX\", \"BMY\", \"AVGO\", \"BR\", \"BF.B\", \"CHRW\", \"COG\", \"CDNS\", \"CZR\", \"CPB\", \"COF\", \"CAH\", \"KMX\", \"CCL\", \"CARR\", \"CTLT\", \"CAT\", \"CBOE\", \"CBRE\", \"CDW\", \"CE\", \"CNC\", \"CNP\", \"CERN\", \"CF\", \"SCHW\", \"CHTR\", \"CVX\", \"CMG\", \"CB\", \"CHD\", \"CI\", \"CINF\", \"CTAS\", \"CSCO\", \"C\", \"CFG\", \"CTXS\", \"CLX\", \"CME\", \"CMS\", \"KO\", \"CTSH\", \"CL\", \"CMCSA\", \"CMA\", \"CAG\", \"COP\", \"ED\", \"STZ\", \"COO\", \"CPRT\", \"GLW\", \"CTVA\", \"COST\", \"CCI\", \"CSX\", \"CMI\", \"CVS\", \"DHI\", \"DHR\", \"DRI\", \"DVA\", \"DE\", \"DAL\", \"XRAY\", \"DVN\", \"DXCM\", \"FANG\", \"DLR\", \"DFS\", \"DISCA\", \"DISCK\", \"DISH\", \"DG\", \"DLTR\", \"D\", \"DPZ\", \"DOV\", \"DOW\", \"DTE\", \"DUK\", \"DRE\", \"DD\", \"DXC\", \"EMN\", \"ETN\", \"EBAY\", \"ECL\", \"EIX\", \"EW\", \"EA\", \"EMR\", \"ENPH\", \"ETR\", \"EOG\", \"EFX\", \"EQIX\", \"EQR\", \"ESS\", \"EL\", \"ETSY\", \"EVRG\", \"ES\", \"RE\", \"EXC\", \"EXPE\", \"EXPD\", \"EXR\", \"XOM\", \"FFIV\", \"FB\", \"FAST\", \"FRT\", \"FDX\", \"FIS\", \"FITB\", \"FE\", \"FRC\", \"FISV\", \"FLT\", \"FLIR\", \"FMC\", \"F\", \"FTNT\", \"FTV\", \"FBHS\", \"FOXA\", \"FOX\", \"BEN\", \"FCX\", \"GPS\", \"GRMN\", \"IT\", \"GNRC\", \"GD\", \"GE\", \"GIS\", \"GM\", \"GPC\", \"GILD\", \"GL\", \"GPN\", \"GS\", \"GWW\", \"HAL\", \"HBI\", \"HIG\", \"HAS\", \"HCA\", \"PEAK\", \"HSIC\", \"HSY\", \"HES\", \"HPE\", \"HLT\", \"HFC\", \"HOLX\", \"HD\", \"HON\", \"HRL\", \"HST\", \"HWM\", \"HPQ\", \"HUM\", \"HBAN\", \"HII\", \"IEX\", \"IDXX\", \"INFO\", \"ITW\", \"ILMN\", \"INCY\", \"IR\", \"INTC\", \"ICE\", \"IBM\", \"IP\", \"IPG\", \"IFF\", \"INTU\", \"ISRG\", \"IVZ\", \"IPGP\", \"IQV\", \"IRM\", \"JKHY\", \"J\", \"JBHT\", \"SJM\", \"JNJ\", \"JCI\", \"JPM\", \"JNPR\", \"KSU\", \"K\", \"KEY\", \"KEYS\", \"KMB\", \"KIM\", \"KMI\", \"KLAC\", \"KHC\", \"KR\", \"LB\", \"LHX\", \"LH\", \"LRCX\", \"LW\", \"LVS\", \"LEG\", \"LDOS\", \"LEN\", \"LLY\", \"LNC\", \"LIN\", \"LYV\", \"LKQ\", \"LMT\", \"L\", \"LOW\", \"LUMN\", \"LYB\", \"MTB\", \"MRO\", \"MPC\", \"MKTX\", \"MAR\", \"MMC\", \"MLM\", \"MAS\", \"MA\", \"MKC\", \"MXIM\", \"MCD\", \"MCK\", \"MDT\", \"MRK\", \"MET\", \"MTD\", \"MGM\", \"MCHP\", \"MU\", \"MSFT\", \"MAA\", \"MHK\", \"TAP\", \"MDLZ\", \"MPWR\", \"MNST\", \"MCO\", \"MS\", \"MOS\", \"MSI\", \"MSCI\", \"NDAQ\", \"NTAP\", \"NFLX\", \"NWL\", \"NEM\", \"NWSA\", \"NWS\", \"NEE\", \"NLSN\", \"NKE\", \"NI\", \"NSC\", \"NTRS\", \"NOC\", \"NLOK\", \"NCLH\", \"NOV\", \"NRG\", \"NUE\", \"NVDA\", \"NVR\", \"NXPI\", \"ORLY\", \"OXY\", \"ODFL\", \"OMC\", \"OKE\", \"ORCL\", \"OTIS\", \"PCAR\", \"PKG\", \"PH\", \"PAYX\", \"PAYC\", \"PYPL\", \"PENN\", \"PNR\", \"PBCT\", \"PEP\", \"PKI\", \"PRGO\", \"PFE\", \"PM\", \"PSX\", \"PNW\", \"PXD\", \"PNC\", \"POOL\", \"PPG\", \"PPL\", \"PFG\", \"PG\", \"PGR\", \"PLD\", \"PRU\", \"PTC\", \"PEG\", \"PSA\", \"PHM\", \"PVH\", \"QRVO\", \"PWR\", \"QCOM\", \"DGX\", \"RL\", \"RJF\", \"RTX\", \"O\", \"REG\", \"REGN\", \"RF\", \"RSG\", \"RMD\", \"RHI\", \"ROK\", \"ROL\", \"ROP\", \"ROST\", \"RCL\", \"SPGI\", \"CRM\", \"SBAC\", \"SLB\", \"STX\", \"SEE\", \"SRE\", \"NOW\", \"SHW\", \"SPG\", \"SWKS\", \"SNA\", \"SO\", \"LUV\", \"SWK\", \"SBUX\", \"STT\", \"STE\", \"SYK\", \"SIVB\", \"SYF\", \"SNPS\", \"SYY\", \"TMUS\", \"TROW\", \"TTWO\", \"TPR\", \"TGT\", \"TEL\", \"TDY\", \"TFX\", \"TER\", \"TSLA\", \"TXN\", \"TXT\", \"TMO\", \"TJX\", \"TSCO\", \"TT\", \"TDG\", \"TRV\", \"TRMB\", \"TFC\", \"TWTR\", \"TYL\", \"TSN\", \"UDR\", \"ULTA\", \"USB\", \"UAA\", \"UA\", \"UNP\", \"UAL\", \"UNH\", \"UPS\", \"URI\", \"UHS\", \"UNM\", \"VLO\", \"VTR\", \"VRSN\", \"VRSK\", \"VZ\", \"VRTX\", \"VFC\", \"VIAC\", \"VTRS\", \"V\", \"VNO\", \"VMC\", \"WRB\", \"WAB\", \"WMT\", \"WBA\", \"DIS\", \"WM\", \"WAT\", \"WEC\", \"WFC\", \"WELL\", \"WST\", \"WDC\", \"WU\", \"WRK\", \"WY\", \"WHR\", \"WMB\", \"WLTW\", \"WYNN\", \"XEL\", \"XLNX\", \"XYL\", \"YUM\", \"ZBRA\", \"ZBH\", \"ZION\", \"ZTS\"]"
      ],
      "execution_count": null,
      "outputs": []
    },
    {
      "cell_type": "code",
      "metadata": {
        "id": "wASUA2cqPtFE"
      },
      "source": [
        "rtc = [\"GAZP\", \"SBER\", \"SBER_p\", \"LKOH\", \"GMKN\", \"YNDX\", \"NVTK\", \"TATN\", \"TATN_p\", \"ROSN\", \"SNGS\", \"SNGS_p\", \"MGNT\", \"FIVEDR\", \"MTSS\", \"POLY\", \"ALRS\", \"CHMF\", \"PLZL\", \"IRAO\", \"NLMK\", \"VTBR\", \"MOEX\", \"PHOR\", \"TRNF_p\", \"MAGN\", \"RTKM\", \"RUAL\", \"AFLT\", \"PIKK\", \"HYDR\", \"FEES\", \"AFKS\", \"LSRG\", \"CBOM\", \"UPRO\", \"DSKY\", \"LNTADR\", \"SFIN\", \"RNFT\", \"MVID\"]"
      ],
      "execution_count": null,
      "outputs": []
    },
    {
      "cell_type": "code",
      "metadata": {
        "colab": {
          "base_uri": "https://localhost:8080/"
        },
        "id": "91NzmS1jMZhp",
        "outputId": "df174bc0-bc5f-4b77-8d16-5477b8d8b7a1"
      },
      "source": [
        "len(rtc)"
      ],
      "execution_count": null,
      "outputs": [
        {
          "output_type": "execute_result",
          "data": {
            "text/plain": [
              "41"
            ]
          },
          "metadata": {
            "tags": []
          },
          "execution_count": 54
        }
      ]
    },
    {
      "cell_type": "code",
      "metadata": {
        "id": "kssnOpFi3TYp"
      },
      "source": [
        "# Данная фунцкия автоматически соединяется с investing.com и парсит информацию акций из smp500 \n",
        "\n",
        "def fi_from_investing(start_date, instruments, part_of_candle, number_of_instruments = None): \n",
        "    today = datetime.datetime.today().strftime('%d/%m/%Y') # Дата сегодня\n",
        "    df = investpy.get_stock_historical_data(stock='AFKS',\n",
        "                                            country='Russia',\n",
        "                                            from_date=start_date,\n",
        "                                            to_date=today)\n",
        "    dataset = pd.DataFrame(df[['Open','High','Low','Close','Volume']])\n",
        "\n",
        "    mistakes = []   # Сюда складываем инструменты с ошибками.\n",
        "\n",
        "    df = investpy.get_stock_historical_data(stock='AFKS',\n",
        "                                            country='Russia',\n",
        "                                            from_date=start_date,\n",
        "                                            to_date=today)\n",
        "    dataset = pd.DataFrame(df[part_of_candle])\n",
        "\n",
        "    for f in rtc[:number_of_instruments]:    # В цикле пройдемся по данным с investing com и и включим в наш датасет.\n",
        "      try:\n",
        "            df = investpy.get_stock_historical_data(stock=f,\n",
        "                                                    country='Russia',\n",
        "                                                    from_date=start_date,    # Это дата начала истории\n",
        "                                                    to_date=today)             # Это дата сегодня (можно поменять на более раннюю. Дата должна быть в формате dd/mm/yyyy)\n",
        "            dataset[f] = pd.DataFrame(df[part_of_candle]) # Добавляем в датасет только цену закрытия\n",
        "          \n",
        "\n",
        "      except:\n",
        "            mistakes.append(f)   # И если ошибка, то будем записывать сюда инструменты с ошибками.\n",
        "            pass\n",
        "\n",
        "\n",
        "    dataset = pd.DataFrame(dataset).drop([part_of_candle], axis = 1) # Удалим первую строку, которая является ценой закрытия APPLE\n",
        "    dataset.T.to_csv(f'Dataset_for_IFinRobot_{part_of_candle}.csv') # Сохраним его в файл\n",
        "\n",
        "    return dataset.T, mistakes\n",
        "\n"
      ],
      "execution_count": null,
      "outputs": []
    },
    {
      "cell_type": "markdown",
      "metadata": {
        "id": "bBCmHDnb5ppq"
      },
      "source": [
        "# Код выше весь обязателен от первой строчки!"
      ]
    },
    {
      "cell_type": "markdown",
      "metadata": {
        "id": "oAWJAbpLBCG6"
      },
      "source": [
        "### Итак, у нас свеча на рынке состоит из 4 частей - 'Open', 'High', 'Low', 'Close'. Кроме того, у акций есть еще и 'Volume'"
      ]
    },
    {
      "cell_type": "markdown",
      "metadata": {
        "id": "jfOk6D-fIufz"
      },
      "source": [
        "##У функции 4 элемента: \n",
        "#### 1 - Дата, с которой надо скачивать, \n",
        "####2 - список инстументов (список smp500), \n",
        "####3 - часть свечи инструмента (Open', 'High', 'Low', 'Close', или 'Volume'), \n",
        "####4 - количество элементов с первого элемента (по умолчанию (если убрать)загружаются все элементы списка smp500 с даты указанной в первом пункте по сегодня)"
      ]
    },
    {
      "cell_type": "code",
      "metadata": {
        "id": "ioNzqP0VEKRA"
      },
      "source": [
        "# Если нужно только одно из Open', 'High', 'Low', 'Close', или 'Volume'\n",
        "# Close, mistakes = fi_from_investing(\"01/01/2019\", rtc, 'Close') # Удалив четвертый параметр (сейчас это 2), скрипт пройдется по всем инструментам из списка."
      ],
      "execution_count": null,
      "outputs": []
    },
    {
      "cell_type": "code",
      "metadata": {
        "id": "UUMv2unbaQTs"
      },
      "source": [
        "# Ниже цикл выгрузит все данные и сохранит в отдельный файл. \n",
        "# Внимание цикл проходится по всем данным. Может занять до 30 минут.\n",
        "mistakes = []\n",
        "for i in ['Open','High','Low','Close','Volume']:\n",
        "      i, m = fi_from_investing(\"01/01/2018\", rtc, i) # Если надо, то меняем дату начала, указываем количество инструментов 4-м параметром\n",
        "      mistakes.append(m)\n",
        "      # print(i)"
      ],
      "execution_count": null,
      "outputs": []
    },
    {
      "cell_type": "code",
      "metadata": {
        "colab": {
          "base_uri": "https://localhost:8080/"
        },
        "id": "bVgweU2ZFHN6",
        "outputId": "b73b66a7-bc17-40e8-af8f-53707833c1c8"
      },
      "source": [
        "mistakes"
      ],
      "execution_count": null,
      "outputs": [
        {
          "output_type": "execute_result",
          "data": {
            "text/plain": [
              "[[], [], [], [], []]"
            ]
          },
          "metadata": {
            "tags": []
          },
          "execution_count": 56
        }
      ]
    },
    {
      "cell_type": "code",
      "metadata": {
        "id": "btvNmJK_IMdm"
      },
      "source": [
        ""
      ],
      "execution_count": null,
      "outputs": []
    }
  ]
}